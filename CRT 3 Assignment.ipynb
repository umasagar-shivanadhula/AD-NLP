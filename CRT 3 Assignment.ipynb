{
 "cells": [
  {
   "cell_type": "code",
   "execution_count": 8,
   "metadata": {},
   "outputs": [],
   "source": [
    "#Write a Python program that takes a student's marks in three subjects as input.\n",
    "#If the average is greater than or equal to 90, print \"Grade: A\".\n",
    "#If the average is between 80 and 89, print \"Grade: B\".\n",
    "#If the average is between 70 and 79, print \"Grade: C\".\n",
    "# Otherwise, print \"Grade: Fail\"."
   ]
  },
  {
   "cell_type": "code",
   "execution_count": 13,
   "metadata": {},
   "outputs": [
    {
     "name": "stdout",
     "output_type": "stream",
     "text": [
      "Average score: 88\n",
      "Grade: B\n"
     ]
    }
   ],
   "source": [
    "subject1=int(input(\"Enter your marks in subject 1: \"))\n",
    "subject2=int(input(\"Enter your marks in subject 2: \"))\n",
    "subject3=int(input(\"Enter your marks in subject 3: \"))\n",
    "average=(subject1+subject2+subject3)//3\n",
    "print(\"Average score:\",average)\n",
    "if average>=90:\n",
    "    print(\"Grade: A\")\n",
    "elif 80<=average<90:\n",
    "    print(\"Grade: B\")\n",
    "elif 70<=average<80:\n",
    "    print(\"Grade: C\")\n",
    "else:\n",
    "    print(\"Grade: Fail\")"
   ]
  },
  {
   "cell_type": "code",
   "execution_count": null,
   "metadata": {},
   "outputs": [],
   "source": []
  }
 ],
 "metadata": {
  "kernelspec": {
   "display_name": "Python 3",
   "language": "python",
   "name": "python3"
  },
  "language_info": {
   "codemirror_mode": {
    "name": "ipython",
    "version": 3
   },
   "file_extension": ".py",
   "mimetype": "text/x-python",
   "name": "python",
   "nbconvert_exporter": "python",
   "pygments_lexer": "ipython3",
   "version": "3.13.1"
  }
 },
 "nbformat": 4,
 "nbformat_minor": 2
}
