{
 "cells": [
  {
   "cell_type": "code",
   "execution_count": 27,
   "metadata": {},
   "outputs": [],
   "source": [
    "#Create a List, tuple and Dictionary with 5 elements in it and how to access few elements based on the index. Try  with different examples \n"
   ]
  },
  {
   "cell_type": "code",
   "execution_count": 28,
   "metadata": {},
   "outputs": [],
   "source": [
    "my_list=[23,22,21,20,19]\n",
    "my_tuple=(1,2,3,4,5)\n",
    "my_dictionary={\"a\":10, \"b\":20, \"c\":30, \"d\":40, \"e\":50}"
   ]
  },
  {
   "cell_type": "code",
   "execution_count": 29,
   "metadata": {},
   "outputs": [
    {
     "name": "stdout",
     "output_type": "stream",
     "text": [
      "my_list's third element: 21\n"
     ]
    }
   ],
   "source": [
    "print(f\"my_list's third element: {my_list[2]}\")"
   ]
  },
  {
   "cell_type": "code",
   "execution_count": 30,
   "metadata": {},
   "outputs": [
    {
     "name": "stdout",
     "output_type": "stream",
     "text": [
      "my_tuple's last element: 5\n"
     ]
    }
   ],
   "source": [
    "print(f\"my_tuple's last element: {my_tuple[-1]}\")"
   ]
  },
  {
   "cell_type": "code",
   "execution_count": 31,
   "metadata": {},
   "outputs": [
    {
     "name": "stdout",
     "output_type": "stream",
     "text": [
      "my_dictionary's first key and value pair: \n",
      "'a': 10\n"
     ]
    }
   ],
   "source": [
    "for key, value in my_dictionary.items():  \n",
    "    print(f\"my_dictionary's first key and value pair: \\n'{key}': {value}\")\n",
    "    break"
   ]
  },
  {
   "cell_type": "code",
   "execution_count": 32,
   "metadata": {},
   "outputs": [
    {
     "name": "stdout",
     "output_type": "stream",
     "text": [
      "Keys in my_dictionary: \n",
      "'a'\n",
      "'b'\n",
      "'c'\n",
      "'d'\n",
      "'e'\n"
     ]
    }
   ],
   "source": [
    "print(\"Keys in my_dictionary: \")\n",
    "for i in my_dictionary.keys():\n",
    "    print(f\"'{i}'\")"
   ]
  },
  {
   "cell_type": "code",
   "execution_count": 35,
   "metadata": {},
   "outputs": [
    {
     "name": "stdout",
     "output_type": "stream",
     "text": [
      "Value at key 'd' in my_dictionary: 40\n"
     ]
    }
   ],
   "source": [
    "print(f\"Value at key 'd' in my_dictionary: {my_dictionary[\"d\"]}\")"
   ]
  },
  {
   "cell_type": "code",
   "execution_count": null,
   "metadata": {},
   "outputs": [],
   "source": []
  }
 ],
 "metadata": {
  "kernelspec": {
   "display_name": "Python 3",
   "language": "python",
   "name": "python3"
  },
  "language_info": {
   "codemirror_mode": {
    "name": "ipython",
    "version": 3
   },
   "file_extension": ".py",
   "mimetype": "text/x-python",
   "name": "python",
   "nbconvert_exporter": "python",
   "pygments_lexer": "ipython3",
   "version": "3.13.1"
  }
 },
 "nbformat": 4,
 "nbformat_minor": 2
}
