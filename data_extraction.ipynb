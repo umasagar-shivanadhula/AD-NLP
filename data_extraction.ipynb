{
 "cells": [
  {
   "cell_type": "code",
   "execution_count": 32,
   "id": "c0b5e54c-2184-4049-8948-152dfec63318",
   "metadata": {},
   "outputs": [],
   "source": [
    " from selenium import webdriver"
   ]
  },
  {
   "cell_type": "code",
   "execution_count": 34,
   "id": "3c1855a5-3f66-4d9b-a34d-28b2ed909b08",
   "metadata": {},
   "outputs": [],
   "source": [
    "from selenium.webdriver.common.by import By"
   ]
  },
  {
   "cell_type": "code",
   "execution_count": 36,
   "id": "a9de4de2-51b0-4a77-9645-3f50b96f89f0",
   "metadata": {},
   "outputs": [],
   "source": [
    "dr=webdriver.Chrome()"
   ]
  },
  {
   "cell_type": "code",
   "execution_count": 37,
   "id": "c68b10de-6b87-4ae6-8f05-b7966b0a211d",
   "metadata": {},
   "outputs": [],
   "source": [
    "dr.get(\"https://flipkart.com\")"
   ]
  },
  {
   "cell_type": "code",
   "execution_count": 42,
   "id": "93bad258-af18-43cc-b9a7-831bf252a9f4",
   "metadata": {},
   "outputs": [],
   "source": [
    "mobile=dr.find_element(By.XPATH,\"//a[@aria-label='Mobiles']\")"
   ]
  },
  {
   "cell_type": "code",
   "execution_count": 44,
   "id": "ab9fe89d-f7eb-4c66-aa99-67e1fc998513",
   "metadata": {},
   "outputs": [],
   "source": [
    "mobile.click()"
   ]
  },
  {
   "cell_type": "code",
   "execution_count": null,
   "id": "96773aeb-2446-40da-8d40-90154ad36733",
   "metadata": {},
   "outputs": [],
   "source": []
  }
 ],
 "metadata": {
  "kernelspec": {
   "display_name": "Python 3 (ipykernel)",
   "language": "python",
   "name": "python3"
  },
  "language_info": {
   "codemirror_mode": {
    "name": "ipython",
    "version": 3
   },
   "file_extension": ".py",
   "mimetype": "text/x-python",
   "name": "python",
   "nbconvert_exporter": "python",
   "pygments_lexer": "ipython3",
   "version": "3.12.7"
  }
 },
 "nbformat": 4,
 "nbformat_minor": 5
}
