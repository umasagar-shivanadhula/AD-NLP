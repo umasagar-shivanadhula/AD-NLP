{
 "cells": [
  {
   "cell_type": "code",
   "execution_count": 10,
   "metadata": {},
   "outputs": [],
   "source": [
    "#Coding Questions\n",
    "#1. Jupyter Notebook and Data Types\n",
    "#Write a program in Jupyter Notebook to declare variables of different data types (integer, float, string, and boolean). Print each variable and its type.\n"
   ]
  },
  {
   "cell_type": "code",
   "execution_count": 11,
   "metadata": {},
   "outputs": [],
   "source": [
    "integer=10\n",
    "character=\"MRU\"\n",
    "bool_val=False\n",
    "float_val=0.613"
   ]
  },
  {
   "cell_type": "code",
   "execution_count": 12,
   "metadata": {},
   "outputs": [
    {
     "name": "stdout",
     "output_type": "stream",
     "text": [
      "Variable 'integer' has value: 10. It's datatype is <class 'int'>\n"
     ]
    }
   ],
   "source": [
    "print(f\"Variable 'integer' has value: {integer}. It's datatype is {type(integer)}\")"
   ]
  },
  {
   "cell_type": "code",
   "execution_count": 13,
   "metadata": {},
   "outputs": [
    {
     "name": "stdout",
     "output_type": "stream",
     "text": [
      "Variable 'character' has value: MRU. It's datatype is <class 'str'>\n"
     ]
    }
   ],
   "source": [
    "print(f\"Variable 'character' has value: {character}. It's datatype is {type(character)}\")"
   ]
  },
  {
   "cell_type": "code",
   "execution_count": 14,
   "metadata": {},
   "outputs": [
    {
     "name": "stdout",
     "output_type": "stream",
     "text": [
      "Variable 'bool_value' has value: False. It's datatype is <class 'bool'>\n"
     ]
    }
   ],
   "source": [
    "print(f\"Variable 'bool_value' has value: {bool_val}. It's datatype is {type(bool_val)}\")"
   ]
  },
  {
   "cell_type": "code",
   "execution_count": 15,
   "metadata": {},
   "outputs": [
    {
     "name": "stdout",
     "output_type": "stream",
     "text": [
      "Variable 'float_val' has value: 0.613. It's datatype is <class 'float'>\n"
     ]
    }
   ],
   "source": [
    "print(f\"Variable 'float_val' has value: {float_val}. It's datatype is {type(float_val)}\")"
   ]
  },
  {
   "cell_type": "code",
   "execution_count": null,
   "metadata": {},
   "outputs": [],
   "source": []
  }
 ],
 "metadata": {
  "kernelspec": {
   "display_name": "Python 3",
   "language": "python",
   "name": "python3"
  },
  "language_info": {
   "codemirror_mode": {
    "name": "ipython",
    "version": 3
   },
   "file_extension": ".py",
   "mimetype": "text/x-python",
   "name": "python",
   "nbconvert_exporter": "python",
   "pygments_lexer": "ipython3",
   "version": "3.13.1"
  }
 },
 "nbformat": 4,
 "nbformat_minor": 2
}
